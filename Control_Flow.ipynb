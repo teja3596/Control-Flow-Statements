{
 "cells": [
  {
   "cell_type": "markdown",
   "metadata": {},
   "source": [
    "## If-else Statement"
   ]
  },
  {
   "cell_type": "code",
   "execution_count": 23,
   "metadata": {},
   "outputs": [
    {
     "name": "stdout",
     "output_type": "stream",
     "text": [
      "Enter the year: 2098\n",
      "2098  is not a leap year.\n"
     ]
    }
   ],
   "source": [
    "# Program to check whether the given year is leap or not.\n",
    "year = int(input(\"Enter the year: \"))\n",
    "if year%4 == 0:\n",
    "    print(year,\" is leap year\")\n",
    "else:\n",
    "    print(year,\" is not a leap year.\")"
   ]
  },
  {
   "cell_type": "markdown",
   "metadata": {},
   "source": [
    "## If-elif..else Statement"
   ]
  },
  {
   "cell_type": "code",
   "execution_count": 28,
   "metadata": {},
   "outputs": [
    {
     "name": "stdout",
     "output_type": "stream",
     "text": [
      "a equals to b.\n"
     ]
    }
   ],
   "source": [
    "#Comparison between the two values using if-elif..else statement.\n",
    "a = 20\n",
    "b = 20\n",
    "if a > b:\n",
    "    print('a is greater than b.')\n",
    "elif a < b:\n",
    "    print('b is greater than a.')\n",
    "else:\n",
    "    print('a equals to b.')"
   ]
  },
  {
   "cell_type": "markdown",
   "metadata": {},
   "source": [
    "## While Loop"
   ]
  },
  {
   "cell_type": "code",
   "execution_count": 5,
   "metadata": {},
   "outputs": [
    {
     "name": "stdout",
     "output_type": "stream",
     "text": [
      "The sum of first 10 natural numbers is  55\n"
     ]
    }
   ],
   "source": [
    "#Using while loop to print the sum of first 10 natural numbers.\n",
    "n = 0\n",
    "sum = 0\n",
    "while n <= 10:\n",
    "    sum = sum+n\n",
    "    n+=1\n",
    "print(\"The sum of first 10 natural numbers is \",sum)"
   ]
  },
  {
   "cell_type": "code",
   "execution_count": 6,
   "metadata": {},
   "outputs": [
    {
     "name": "stdout",
     "output_type": "stream",
     "text": [
      "Guess a number between 1 to 10: 3\n",
      "Sorry! Please try again.\n",
      "Guess a number between 1 to 10: 2\n",
      "Sorry! Please try again.\n",
      "Guess a number between 1 to 10: 3\n",
      "Sorry! You lose the game.\n"
     ]
    }
   ],
   "source": [
    "# 3 Tries to guess a number between 1 to 10 using while and if-else statement.\n",
    "import numpy as np\n",
    "n = 0\n",
    "while n < 3:\n",
    "    Guess = int(input(\"Guess a number between 1 to 10: \"))\n",
    "    np.random.seed(4567)\n",
    "    number = np.random.randint(1,10)\n",
    "    if Guess == number:\n",
    "        print(\"Congrats! You won the game.\")\n",
    "    elif n < 2:\n",
    "        print(\"Sorry! Please try again.\")\n",
    "    else:\n",
    "        print(\"Sorry! You lose the game.\")\n",
    "    n+=1"
   ]
  },
  {
   "cell_type": "markdown",
   "metadata": {},
   "source": [
    "## For loop"
   ]
  },
  {
   "cell_type": "code",
   "execution_count": 25,
   "metadata": {},
   "outputs": [
    {
     "name": "stdout",
     "output_type": "stream",
     "text": [
      "10\n",
      "20\n",
      "30\n",
      "40\n",
      "50\n"
     ]
    }
   ],
   "source": [
    "#Multiplication table using for loop\n",
    "n = 10\n",
    "for i in range(1,6):\n",
    "    print(n*i)"
   ]
  },
  {
   "cell_type": "code",
   "execution_count": 27,
   "metadata": {},
   "outputs": [
    {
     "name": "stdout",
     "output_type": "stream",
     "text": [
      "apples\n",
      "bananas\n",
      "cherrys\n"
     ]
    }
   ],
   "source": [
    "#Printing all the elements in the list using a for loop\n",
    "basket = [\"apples\", \"bananas\", \"cherrys\"]\n",
    "for x in basket:\n",
    "    print(x)"
   ]
  },
  {
   "cell_type": "markdown",
   "metadata": {},
   "source": [
    "## Break statement"
   ]
  },
  {
   "cell_type": "code",
   "execution_count": 22,
   "metadata": {},
   "outputs": [
    {
     "name": "stdout",
     "output_type": "stream",
     "text": [
      "Index is  4\n"
     ]
    }
   ],
   "source": [
    "list = [10,20,30,40,50,60,70,50]\n",
    "for i in range(0,len(list)):\n",
    "    if list[i] == 50:\n",
    "        break\n",
    "        i+=1\n",
    "print(\"Index is \",i)"
   ]
  },
  {
   "cell_type": "markdown",
   "metadata": {},
   "source": [
    "## Continue statement"
   ]
  },
  {
   "cell_type": "code",
   "execution_count": 21,
   "metadata": {},
   "outputs": [
    {
     "name": "stdout",
     "output_type": "stream",
     "text": [
      "30\n",
      "78\n",
      "90\n",
      "78\n"
     ]
    }
   ],
   "source": [
    "list = [15,30,45,78,90,45,78]\n",
    "for i in range(0,len(list)):\n",
    "    if list[i]%2 == 0:\n",
    "        print(list[i])\n",
    "        continue\n",
    "        i+=1"
   ]
  }
 ],
 "metadata": {
  "kernelspec": {
   "display_name": "Python 3",
   "language": "python",
   "name": "python3"
  },
  "language_info": {
   "codemirror_mode": {
    "name": "ipython",
    "version": 3
   },
   "file_extension": ".py",
   "mimetype": "text/x-python",
   "name": "python",
   "nbconvert_exporter": "python",
   "pygments_lexer": "ipython3",
   "version": "3.6.5"
  }
 },
 "nbformat": 4,
 "nbformat_minor": 2
}
